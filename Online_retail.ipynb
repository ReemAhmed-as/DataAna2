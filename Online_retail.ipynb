{
  "nbformat": 4,
  "nbformat_minor": 0,
  "metadata": {
    "colab": {
      "provenance": [],
      "include_colab_link": true
    },
    "kernelspec": {
      "name": "python3",
      "display_name": "Python 3"
    },
    "language_info": {
      "name": "python"
    }
  },
  "cells": [
    {
      "cell_type": "markdown",
      "metadata": {
        "id": "view-in-github",
        "colab_type": "text"
      },
      "source": [
        "<a href=\"https://colab.research.google.com/github/ReemAhmed-as/DataAna2/blob/main/Online_retail.ipynb\" target=\"_parent\"><img src=\"https://colab.research.google.com/assets/colab-badge.svg\" alt=\"Open In Colab\"/></a>"
      ]
    },
    {
      "cell_type": "code",
      "execution_count": null,
      "metadata": {
        "id": "O4Vhax6f7A2d",
        "colab": {
          "base_uri": "https://localhost:8080/"
        },
        "outputId": "034f7149-4933-48ff-f6e0-ab8a43fb891b"
      },
      "outputs": [
        {
          "output_type": "stream",
          "name": "stderr",
          "text": [
            "/usr/local/lib/python3.10/dist-packages/ipykernel/ipkernel.py:283: DeprecationWarning: `should_run_async` will not call `transform_cell` automatically in the future. Please pass the result to `transformed_cell` argument and any exception that happen during thetransform in `preprocessing_exc_tuple` in IPython 7.17 and above.\n",
            "  and should_run_async(code)\n"
          ]
        },
        {
          "output_type": "stream",
          "name": "stdout",
          "text": [
            "Mounted at /content/drive\n",
            "Changed directory to /content/drive/My Drive/Colab Notebooks/online+retail\n"
          ]
        }
      ],
      "source": [
        "import os\n",
        "from google.colab import drive\n",
        "\n",
        "# Mount Google Drive\n",
        "drive.mount('/content/drive')\n",
        "\n",
        "# Change this path to where you have saved the Data folder in your drive\n",
        "path = '/content/drive/My Drive/Colab Notebooks/online+retail'\n",
        "\n",
        "# Check if the directory exists\n",
        "if os.path.exists(path):\n",
        "  os.chdir(path)\n",
        "  print(f\"Changed directory to {path}\")\n",
        "else:\n",
        "  print(f\"Directory not found: {path}\")\n",
        "  # You might want to create the directory if it doesn't exist:\n",
        "  # os.makedirs(path)"
      ]
    },
    {
      "cell_type": "code",
      "source": [
        "# Import necessary libraries\n",
        "\n",
        "from mlxtend.frequent_patterns import apriori, association_rules\n",
        "import pandas as pd\n",
        "from mlxtend.frequent_patterns import fpgrowth, association_rules\n",
        "\n",
        "# بس اول 300 الف\n",
        "# Adjust the path to where the dataset is located\n",
        "df = pd.read_excel('Online_Retail.xlsx',nrows=300000)\n",
        "\n",
        "# View the first few rows of the dataset\n",
        "print(df.head())"
      ],
      "metadata": {
        "colab": {
          "base_uri": "https://localhost:8080/"
        },
        "id": "UiYQvMd3j66W",
        "outputId": "edb0c902-111f-4c00-a75e-109aa3b7fb00"
      },
      "execution_count": null,
      "outputs": [
        {
          "output_type": "stream",
          "name": "stderr",
          "text": [
            "/usr/local/lib/python3.10/dist-packages/ipykernel/ipkernel.py:283: DeprecationWarning: `should_run_async` will not call `transform_cell` automatically in the future. Please pass the result to `transformed_cell` argument and any exception that happen during thetransform in `preprocessing_exc_tuple` in IPython 7.17 and above.\n",
            "  and should_run_async(code)\n"
          ]
        },
        {
          "output_type": "stream",
          "name": "stdout",
          "text": [
            "  InvoiceNo StockCode                          Description  Quantity  \\\n",
            "0    536365    85123A   WHITE HANGING HEART T-LIGHT HOLDER         6   \n",
            "1    536365     71053                  WHITE METAL LANTERN         6   \n",
            "2    536365    84406B       CREAM CUPID HEARTS COAT HANGER         8   \n",
            "3    536365    84029G  KNITTED UNION FLAG HOT WATER BOTTLE         6   \n",
            "4    536365    84029E       RED WOOLLY HOTTIE WHITE HEART.         6   \n",
            "\n",
            "          InvoiceDate  UnitPrice  CustomerID         Country  \n",
            "0 2010-12-01 08:26:00       2.55     17850.0  United Kingdom  \n",
            "1 2010-12-01 08:26:00       3.39     17850.0  United Kingdom  \n",
            "2 2010-12-01 08:26:00       2.75     17850.0  United Kingdom  \n",
            "3 2010-12-01 08:26:00       3.39     17850.0  United Kingdom  \n",
            "4 2010-12-01 08:26:00       3.39     17850.0  United Kingdom  \n"
          ]
        }
      ]
    },
    {
      "cell_type": "code",
      "source": [
        "# إزالة الصفوف المكررة\n",
        "df = df.drop_duplicates()\n",
        "\n",
        "print(\"\\ndata sheap\")\n",
        "print(df.shape)\n",
        "\n",
        "print(\"\\nfirst 5 col\")\n",
        "print(df.head())"
      ],
      "metadata": {
        "colab": {
          "base_uri": "https://localhost:8080/"
        },
        "id": "2kKSJwmGjp1M",
        "outputId": "e661dfaa-81f8-4953-c1a5-a35bc9545070"
      },
      "execution_count": null,
      "outputs": [
        {
          "output_type": "stream",
          "name": "stderr",
          "text": [
            "/usr/local/lib/python3.10/dist-packages/ipykernel/ipkernel.py:283: DeprecationWarning: `should_run_async` will not call `transform_cell` automatically in the future. Please pass the result to `transformed_cell` argument and any exception that happen during thetransform in `preprocessing_exc_tuple` in IPython 7.17 and above.\n",
            "  and should_run_async(code)\n"
          ]
        },
        {
          "output_type": "stream",
          "name": "stdout",
          "text": [
            "\n",
            "data sheap\n",
            "(297663, 8)\n",
            "\n",
            "first 5 col\n",
            "  InvoiceNo StockCode                          Description  Quantity  \\\n",
            "0    536365    85123A   WHITE HANGING HEART T-LIGHT HOLDER         6   \n",
            "1    536365     71053                  WHITE METAL LANTERN         6   \n",
            "2    536365    84406B       CREAM CUPID HEARTS COAT HANGER         8   \n",
            "3    536365    84029G  KNITTED UNION FLAG HOT WATER BOTTLE         6   \n",
            "4    536365    84029E       RED WOOLLY HOTTIE WHITE HEART.         6   \n",
            "\n",
            "          InvoiceDate  UnitPrice  CustomerID         Country  \n",
            "0 2010-12-01 08:26:00       2.55     17850.0  United Kingdom  \n",
            "1 2010-12-01 08:26:00       3.39     17850.0  United Kingdom  \n",
            "2 2010-12-01 08:26:00       2.75     17850.0  United Kingdom  \n",
            "3 2010-12-01 08:26:00       3.39     17850.0  United Kingdom  \n",
            "4 2010-12-01 08:26:00       3.39     17850.0  United Kingdom  \n"
          ]
        }
      ]
    },
    {
      "cell_type": "code",
      "source": [
        "print(\"\\n the number of the null value\")\n",
        "print(df.isnull().sum())\n",
        "\n",
        "# إزالة الصفوف التي تحتوي على قيم مفقودة\n",
        "df = df.dropna()\n",
        "df.shape"
      ],
      "metadata": {
        "colab": {
          "base_uri": "https://localhost:8080/"
        },
        "id": "qhTPS2j_jlU4",
        "outputId": "b01cf68e-62e0-4c6a-bf86-ffdbf06b1bd6"
      },
      "execution_count": null,
      "outputs": [
        {
          "output_type": "stream",
          "name": "stdout",
          "text": [
            "\n",
            " the number of the null value\n",
            "InvoiceNo      0\n",
            "StockCode      0\n",
            "Description    0\n",
            "Quantity       0\n",
            "InvoiceDate    0\n",
            "UnitPrice      0\n",
            "CustomerID     0\n",
            "Country        0\n",
            "dtype: int64\n"
          ]
        },
        {
          "output_type": "stream",
          "name": "stderr",
          "text": [
            "/usr/local/lib/python3.10/dist-packages/ipykernel/ipkernel.py:283: DeprecationWarning: `should_run_async` will not call `transform_cell` automatically in the future. Please pass the result to `transformed_cell` argument and any exception that happen during thetransform in `preprocessing_exc_tuple` in IPython 7.17 and above.\n",
            "  and should_run_async(code)\n"
          ]
        },
        {
          "output_type": "execute_result",
          "data": {
            "text/plain": [
              "(213603, 8)"
            ]
          },
          "metadata": {},
          "execution_count": 10
        }
      ]
    },
    {
      "cell_type": "code",
      "source": [
        "\n",
        "\n",
        "# Data Cleaning\n",
        "# Remove rows with missing CustomerID (they represent incomplete transactions)\n",
        "df = df[df['CustomerID'].notna()]\n",
        "\n",
        "# Remove canceled orders (Quantity < 0)\n",
        "df = df[df['Quantity'] > 0]\n",
        "\n",
        "# Create a basket (One-hot encoded format where each row is a transaction)\n",
        "basket = (df.groupby(['InvoiceNo', 'Description'])['Quantity']\n",
        "          .sum().unstack().reset_index().fillna(0)\n",
        "          .set_index('InvoiceNo'))\n",
        "\n",
        "# Convert the quantities into 1s and 0s (1 = bought, 0 = not bought)\n",
        "def encode_units(x):\n",
        "    return 1 if x >= 1 else 0\n",
        "\n",
        "basket = basket.applymap(encode_units)\n",
        "\n"
      ],
      "metadata": {
        "colab": {
          "base_uri": "https://localhost:8080/"
        },
        "id": "ofUCT-jfiHn7",
        "outputId": "1f6831be-97fa-4f4a-dd4f-a9741a49b884"
      },
      "execution_count": null,
      "outputs": [
        {
          "output_type": "stream",
          "name": "stderr",
          "text": [
            "/usr/local/lib/python3.10/dist-packages/ipykernel/ipkernel.py:283: DeprecationWarning: `should_run_async` will not call `transform_cell` automatically in the future. Please pass the result to `transformed_cell` argument and any exception that happen during thetransform in `preprocessing_exc_tuple` in IPython 7.17 and above.\n",
            "  and should_run_async(code)\n",
            "<ipython-input-11-3257161cb068>:17: FutureWarning: DataFrame.applymap has been deprecated. Use DataFrame.map instead.\n",
            "  basket = basket.applymap(encode_units)\n"
          ]
        }
      ]
    },
    {
      "cell_type": "code",
      "source": [
        "# Perform FP-Growth to find frequent itemsets\n",
        "# Set minimum support threshold (e.g., 0.02 means the itemset must appear in 2% of transactions)\n",
        "frequent_itemsets = fpgrowth(basket, min_support=0.02, use_colnames=True)\n",
        "\n",
        "# Display frequent itemsets\n",
        "print(\"Frequent Itemsets:\")\n",
        "print(frequent_itemsets)\n",
        "\n",
        "# Generate association rules based on frequent itemsets\n",
        "rules = association_rules(frequent_itemsets, metric=\"lift\", min_threshold=1)\n",
        "\n",
        "# Display association rules\n",
        "print(\"\\nAssociation Rules:\")\n",
        "print(rules[['antecedents', 'consequents', 'support', 'confidence', 'lift']])\n"
      ],
      "metadata": {
        "colab": {
          "base_uri": "https://localhost:8080/"
        },
        "id": "eaRd30z9kkzq",
        "outputId": "8ea35d8e-1129-4969-eb79-3386138aa87d"
      },
      "execution_count": null,
      "outputs": [
        {
          "output_type": "stream",
          "name": "stderr",
          "text": [
            "/usr/local/lib/python3.10/dist-packages/ipykernel/ipkernel.py:283: DeprecationWarning: `should_run_async` will not call `transform_cell` automatically in the future. Please pass the result to `transformed_cell` argument and any exception that happen during thetransform in `preprocessing_exc_tuple` in IPython 7.17 and above.\n",
            "  and should_run_async(code)\n",
            "/usr/local/lib/python3.10/dist-packages/mlxtend/frequent_patterns/fpcommon.py:109: DeprecationWarning: DataFrames with non-bool types result in worse computationalperformance and their support might be discontinued in the future.Please use a DataFrame with bool type\n",
            "  warnings.warn(\n"
          ]
        },
        {
          "output_type": "stream",
          "name": "stdout",
          "text": [
            "Frequent Itemsets:\n",
            "      support                                           itemsets\n",
            "0    0.124730               (WHITE HANGING HEART T-LIGHT HOLDER)\n",
            "1    0.075682                    (ASSORTED COLOUR BIRD ORNAMENT)\n",
            "2    0.044453                         (HOME BUILDING BLOCK WORD)\n",
            "3    0.036012                         (LOVE BUILDING BLOCK WORD)\n",
            "4    0.032636                              (DOORMAT NEW ENGLAND)\n",
            "..        ...                                                ...\n",
            "242  0.024665  (LUNCH BAG RED RETROSPOT, LUNCH BAG SUKI DESIGN )\n",
            "243  0.022414      (LUNCH BAG CARS BLUE, LUNCH BAG SUKI DESIGN )\n",
            "244  0.020163  (LUNCH BAG SUKI DESIGN , LUNCH BAG PINK POLKADOT)\n",
            "245  0.020913  (LUNCH BAG  BLACK SKULL., LUNCH BAG SUKI DESIGN )\n",
            "246  0.020913                    (PARTY BUNTING, SPOTTY BUNTING)\n",
            "\n",
            "[247 rows x 2 columns]\n",
            "\n",
            "Association Rules:\n",
            "                             antecedents  \\\n",
            "0           (ALARM CLOCK BAKELIKE GREEN)   \n",
            "1            (ALARM CLOCK BAKELIKE RED )   \n",
            "2    (WOODEN PICTURE FRAME WHITE FINISH)   \n",
            "3   (WHITE HANGING HEART T-LIGHT HOLDER)   \n",
            "4          (WOODEN FRAME ANTIQUE WHITE )   \n",
            "..                                   ...   \n",
            "83             (LUNCH BAG PINK POLKADOT)   \n",
            "84             (LUNCH BAG  BLACK SKULL.)   \n",
            "85              (LUNCH BAG SUKI DESIGN )   \n",
            "86                       (PARTY BUNTING)   \n",
            "87                      (SPOTTY BUNTING)   \n",
            "\n",
            "                             consequents   support  confidence       lift  \n",
            "0            (ALARM CLOCK BAKELIKE RED )  0.022320    0.634667  14.277322  \n",
            "1           (ALARM CLOCK BAKELIKE GREEN)  0.022320    0.502110  14.277322  \n",
            "2   (WHITE HANGING HEART T-LIGHT HOLDER)  0.020538    0.391071   3.135334  \n",
            "3    (WOODEN PICTURE FRAME WHITE FINISH)  0.020538    0.164662   3.135334  \n",
            "4    (WOODEN PICTURE FRAME WHITE FINISH)  0.024102    0.582766  11.096497  \n",
            "..                                   ...       ...         ...        ...  \n",
            "83              (LUNCH BAG SUKI DESIGN )  0.020163    0.357737   7.406895  \n",
            "84              (LUNCH BAG SUKI DESIGN )  0.020913    0.358521   7.423123  \n",
            "85             (LUNCH BAG  BLACK SKULL.)  0.020913    0.433010   7.423123  \n",
            "86                      (SPOTTY BUNTING)  0.020913    0.221011   4.119999  \n",
            "87                       (PARTY BUNTING)  0.020913    0.389860   4.119999  \n",
            "\n",
            "[88 rows x 5 columns]\n"
          ]
        }
      ]
    }
  ]
}